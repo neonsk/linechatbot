{
 "cells": [
  {
   "cell_type": "code",
   "execution_count": 10,
   "metadata": {
    "collapsed": false
   },
   "outputs": [
    {
     "name": "stdout",
     "output_type": "stream",
     "text": [
      "え?\n",
      "{'perplexity': 1.914753521820811, 'reply': 'え?'}\n",
      "<class 'dict'>\n"
     ]
    }
   ],
   "source": [
    "import pya3rt\n",
    "\n",
    "push_text = \"どうしたの\"\n",
    "\n",
    "if __name__ == '__main__':\n",
    "    apikey = \"DZZTN8HTduABGoAd8GPaM3QCvapddGU7\"\n",
    "    client = pya3rt.TalkClient(apikey)\n",
    "    response = client.talk(push_text)\n",
    "    reply_text = ((response['results'])[0])['reply']\n",
    "\n",
    "print(reply_text)\n",
    "print(((response['results'])[0]))\n",
    "print(type(response))"
   ]
  },
  {
   "cell_type": "code",
   "execution_count": 45,
   "metadata": {
    "collapsed": false
   },
   "outputs": [
    {
     "name": "stdout",
     "output_type": "stream",
     "text": [
      "b'{\"status\": 0, \"message\": \"ok\", \"results\": [{\"perplexity\": 0.07743213382788067, \"reply\": \"\\\\u304a\\\\u306f\\\\u3088\\\\u3046\\\\u3054\\\\u3056\\\\u3044\\\\u307e\\\\u3059\"}]}'\n",
      "<class 'bytes'>\n",
      "-------------\n",
      "['b\\'{\"status\"', ' 0, \"message\"', ' \"ok\", \"results\"', ' [{\"perplexity\"', ' 0.07743213382788067, \"reply\"', ' \"\\\\\\\\u304a\\\\\\\\u306f\\\\\\\\u3088\\\\\\\\u3046\\\\\\\\u3054\\\\\\\\u3056\\\\\\\\u3044\\\\\\\\u307e\\\\\\\\u3059\"}]}\\'']\n",
      "-------------\n",
      " \"\\\\u304a\\\\u306f\\\\u3088\\\\u3046\\\\u3054\\\\u3056\\\\u3044\\\\u307e\\\\u3059\"}]}'\n",
      "<class 'str'>\n",
      "-------------\n",
      "b'\\\\\\\\u304a\\\\\\\\u306f\\\\\\\\u3088\\\\\\\\u3046\\\\\\\\u3054\\\\\\\\u3056\\\\\\\\u3044\\\\\\\\u307e\\\\\\\\u3059'\n",
      "b'\\\\\\\\u304a\\\\\\\\u306f\\\\\\\\u3088\\\\\\\\u3046\\\\\\\\u3054\\\\\\\\u3056\\\\\\\\u3044\\\\\\\\u307e\\\\\\\\u3059'\n"
     ]
    }
   ],
   "source": [
    "import subprocess\n",
    "\n",
    "curl_cmd = 'curl -X POST https://api.a3rt.recruit-tech.co.jp/talk/v1/smalltalk -F \"apikey=DZZTN8HTduABGoAd8GPaM3QCvapddGU7\" -F \"query=おはよう\"'\n",
    "message = subprocess.check_output(curl_cmd, shell=True)\n",
    "print(message)\n",
    "print(type(message))\n",
    "print(\"-------------\")\n",
    "\n",
    "print(str(message).split(\":\"))\n",
    "print(\"-------------\")\n",
    "\n",
    "output = str(message).split(\":\")[5]\n",
    "output_len = len(output)\n",
    "print(output)\n",
    "print(type(output))\n",
    "print(\"-------------\")\n",
    "\n",
    "output_code = output[2:output_len-5]\n",
    "print(bytes(output_code, encoding='utf-8', errors='replace'))\n",
    "output_byte_code = bytes(output_code, encoding='utf-8', errors='replace')\n",
    "print(output_byte_code)"
   ]
  },
  {
   "cell_type": "code",
   "execution_count": 2,
   "metadata": {
    "collapsed": false
   },
   "outputs": [],
   "source": [
    "import pya3rt\n",
    "\n",
    "def talkapi_response(text):\n",
    "    apikey = \"DZZTN8HTduABGoAd8GPaM3QCvapddGU7\"\n",
    "    client = pya3rt.TalkClient(apikey)\n",
    "    response = client.talk(text)\n",
    "    return ((response['results'])[0])['reply']"
   ]
  },
  {
   "cell_type": "code",
   "execution_count": 6,
   "metadata": {
    "collapsed": false
   },
   "outputs": [
    {
     "data": {
      "text/plain": [
       "'私もすきました'"
      ]
     },
     "execution_count": 6,
     "metadata": {},
     "output_type": "execute_result"
    }
   ],
   "source": [
    "talkapi_response(\"おなかすいた\")"
   ]
  },
  {
   "cell_type": "code",
   "execution_count": null,
   "metadata": {
    "collapsed": true
   },
   "outputs": [],
   "source": []
  }
 ],
 "metadata": {
  "kernelspec": {
   "display_name": "Python 3",
   "language": "python",
   "name": "python3"
  },
  "language_info": {
   "codemirror_mode": {
    "name": "ipython",
    "version": 3
   },
   "file_extension": ".py",
   "mimetype": "text/x-python",
   "name": "python",
   "nbconvert_exporter": "python",
   "pygments_lexer": "ipython3",
   "version": "3.6.0"
  }
 },
 "nbformat": 4,
 "nbformat_minor": 2
}
