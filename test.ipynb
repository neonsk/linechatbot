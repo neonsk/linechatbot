{
 "cells": [
  {
   "cell_type": "code",
   "execution_count": 1,
   "metadata": {
    "collapsed": false
   },
   "outputs": [
    {
     "name": "stdout",
     "output_type": "stream",
     "text": [
      "え?\n",
      "{'perplexity': 1.914753521820811, 'reply': 'え?'}\n",
      "<class 'dict'>\n"
     ]
    }
   ],
   "source": [
    "import pya3rt\n",
    "\n",
    "push_text = \"どうしたの\"\n",
    "\n",
    "if __name__ == '__main__':\n",
    "    apikey = \"DZZTN8HTduABGoAd8GPaM3QCvapddGU7\"\n",
    "    client = pya3rt.TalkClient(apikey)\n",
    "    response = client.talk(push_text)\n",
    "    reply_text = ((response['results'])[0])['reply']\n",
    "\n",
    "print(reply_text)\n",
    "print(((response['results'])[0]))\n",
    "print(type(response))"
   ]
  },
  {
   "cell_type": "code",
   "execution_count": 45,
   "metadata": {
    "collapsed": false
   },
   "outputs": [
    {
     "name": "stdout",
     "output_type": "stream",
     "text": [
      "b'{\"status\": 0, \"message\": \"ok\", \"results\": [{\"perplexity\": 0.07743213382788067, \"reply\": \"\\\\u304a\\\\u306f\\\\u3088\\\\u3046\\\\u3054\\\\u3056\\\\u3044\\\\u307e\\\\u3059\"}]}'\n",
      "<class 'bytes'>\n",
      "-------------\n",
      "['b\\'{\"status\"', ' 0, \"message\"', ' \"ok\", \"results\"', ' [{\"perplexity\"', ' 0.07743213382788067, \"reply\"', ' \"\\\\\\\\u304a\\\\\\\\u306f\\\\\\\\u3088\\\\\\\\u3046\\\\\\\\u3054\\\\\\\\u3056\\\\\\\\u3044\\\\\\\\u307e\\\\\\\\u3059\"}]}\\'']\n",
      "-------------\n",
      " \"\\\\u304a\\\\u306f\\\\u3088\\\\u3046\\\\u3054\\\\u3056\\\\u3044\\\\u307e\\\\u3059\"}]}'\n",
      "<class 'str'>\n",
      "-------------\n",
      "b'\\\\\\\\u304a\\\\\\\\u306f\\\\\\\\u3088\\\\\\\\u3046\\\\\\\\u3054\\\\\\\\u3056\\\\\\\\u3044\\\\\\\\u307e\\\\\\\\u3059'\n",
      "b'\\\\\\\\u304a\\\\\\\\u306f\\\\\\\\u3088\\\\\\\\u3046\\\\\\\\u3054\\\\\\\\u3056\\\\\\\\u3044\\\\\\\\u307e\\\\\\\\u3059'\n"
     ]
    }
   ],
   "source": [
    "import subprocess\n",
    "\n",
    "curl_cmd = 'curl -X POST https://api.a3rt.recruit-tech.co.jp/talk/v1/smalltalk -F \"apikey=DZZTN8HTduABGoAd8GPaM3QCvapddGU7\" -F \"query=おはよう\"'\n",
    "message = subprocess.check_output(curl_cmd, shell=True)\n",
    "print(message)\n",
    "print(type(message))\n",
    "print(\"-------------\")\n",
    "\n",
    "print(str(message).split(\":\"))\n",
    "print(\"-------------\")\n",
    "\n",
    "output = str(message).split(\":\")[5]\n",
    "output_len = len(output)\n",
    "print(output)\n",
    "print(type(output))\n",
    "print(\"-------------\")\n",
    "\n",
    "output_code = output[2:output_len-5]\n",
    "print(bytes(output_code, encoding='utf-8', errors='replace'))\n",
    "output_byte_code = bytes(output_code, encoding='utf-8', errors='replace')\n",
    "print(output_byte_code)"
   ]
  },
  {
   "cell_type": "code",
   "execution_count": 2,
   "metadata": {
    "collapsed": false
   },
   "outputs": [],
   "source": [
    "import pya3rt\n",
    "\n",
    "def talkapi_response(text):\n",
    "    apikey = \"DZZTN8HTduABGoAd8GPaM3QCvapddGU7\"\n",
    "    client = pya3rt.TalkClient(apikey)\n",
    "    response = client.talk(text)\n",
    "    return ((response['results'])[0])['reply']"
   ]
  },
  {
   "cell_type": "code",
   "execution_count": 6,
   "metadata": {
    "collapsed": false
   },
   "outputs": [
    {
     "data": {
      "text/plain": [
       "'私もすきました'"
      ]
     },
     "execution_count": 6,
     "metadata": {},
     "output_type": "execute_result"
    }
   ],
   "source": [
    "talkapi_response(\"おなかすいた\")"
   ]
  },
  {
   "cell_type": "code",
   "execution_count": 1,
   "metadata": {
    "collapsed": false
   },
   "outputs": [
    {
     "name": "stdout",
     "output_type": "stream",
     "text": [
      "[{'faceId': 'd6a50242-7133-4088-973a-033042a9ff5d', 'faceRectangle': {'top': 124, 'left': 459, 'width': 227, 'height': 227}}]\n"
     ]
    }
   ],
   "source": [
    "import cognitive_face as CF\n",
    "\n",
    "KEY = 'bff1d340a9ab4fc78a4ec50bb78aac35'  # Replace with a valid subscription key (keeping the quotes in place).\n",
    "CF.Key.set(KEY)\n",
    "\n",
    "BASE_URL = 'https://westcentralus.api.cognitive.microsoft.com/face/v1.0'  # Replace with your regional Base URL\n",
    "CF.BaseUrl.set(BASE_URL)\n",
    "\n",
    "# You can use this example JPG or replace the URL below with your own URL to a JPEG image.\n",
    "img_url = 'https://raw.githubusercontent.com/Microsoft/Cognitive-Face-Windows/master/Data/detection1.jpg'\n",
    "faces = CF.face.detect(img_url)\n",
    "print(faces)"
   ]
  },
  {
   "cell_type": "code",
   "execution_count": 2,
   "metadata": {
    "collapsed": true
   },
   "outputs": [],
   "source": [
    "import os, requests, time\n",
    "from xml.etree import ElementTree"
   ]
  },
  {
   "cell_type": "code",
   "execution_count": 3,
   "metadata": {
    "collapsed": true
   },
   "outputs": [],
   "source": [
    "try: input = raw_input\n",
    "except NameError: pass"
   ]
  },
  {
   "cell_type": "code",
   "execution_count": 4,
   "metadata": {
    "collapsed": true
   },
   "outputs": [],
   "source": [
    "class TextToSpeech(object):\n",
    "    def __init__(self, subscription_key):\n",
    "        self.subscription_key = subscription_key\n",
    "        self.tts = input(\"What would you like to convert to speech: \")\n",
    "        self.timestr = time.strftime(\"%Y%m%d-%H%M\")\n",
    "        self.access_token = None"
   ]
  },
  {
   "cell_type": "code",
   "execution_count": 10,
   "metadata": {
    "collapsed": true
   },
   "outputs": [],
   "source": [
    "def get_token(self):\n",
    "    fetch_token_url = \"https://japaneast.tts.speech.microsoft.com/cognitiveservices/v1\"\n",
    "    headers = {\n",
    "        'Ocp-Apim-Subscription-Key': self.subscription_key\n",
    "    }\n",
    "    response = requests.post(fetch_token_url, headers=headers)\n",
    "    self.access_token = str(response.text)"
   ]
  },
  {
   "cell_type": "code",
   "execution_count": 11,
   "metadata": {
    "collapsed": true
   },
   "outputs": [],
   "source": [
    "def save_audio(self):\n",
    "    base_url = 'https://japaneast.tts.speech.microsoft.com/cognitiveservices/v1'\n",
    "    path = 'cognitiveservices/v1'\n",
    "    constructed_url = base_url + path\n",
    "    headers = {\n",
    "        'Authorization': 'Bearer ' + self.access_token,\n",
    "        'Content-Type': 'application/ssml+xml',\n",
    "        'X-Microsoft-OutputFormat': 'riff-24khz-16bit-mono-pcm',\n",
    "        'User-Agent': 'YOUR_RESOURCE_NAME'\n",
    "    }\n",
    "    xml_body = ElementTree.Element('speak', version='1.0')\n",
    "    xml_body.set('{http://www.w3.org/XML/1998/namespace}lang', 'en-us')\n",
    "    voice = ElementTree.SubElement(xml_body, 'voice')\n",
    "    voice.set('{http://www.w3.org/XML/1998/namespace}lang', 'en-US')\n",
    "    voice.set('name', 'Microsoft Server Speech Text to Speech Voice (en-US, Guy24KRUS)')\n",
    "    voice.text = self.tts\n",
    "    body = ElementTree.tostring(xml_body)\n",
    "\n",
    "    response = requests.post(constructed_url, headers=headers, data=body)\n",
    "    if response.status_code == 200:\n",
    "        with open('sample-' + self.timestr + '.wav', 'wb') as audio:\n",
    "            audio.write(response.content)\n",
    "            print(\"\\nStatus code: \" + str(response.status_code) + \"\\nYour TTS is ready for playback.\\n\")\n",
    "    else:\n",
    "        print(\"\\nStatus code: \" + str(response.status_code) + \"\\nSomething went wrong. Check your subscription key and headers.\\n\")"
   ]
  },
  {
   "cell_type": "code",
   "execution_count": 13,
   "metadata": {
    "collapsed": false
   },
   "outputs": [
    {
     "name": "stdout",
     "output_type": "stream",
     "text": [
      "What would you like to convert to speech: あ\n"
     ]
    },
    {
     "ename": "AttributeError",
     "evalue": "'TextToSpeech' object has no attribute 'get_token'",
     "output_type": "error",
     "traceback": [
      "\u001b[0;31m---------------------------------------------------------------------------\u001b[0m",
      "\u001b[0;31mAttributeError\u001b[0m                            Traceback (most recent call last)",
      "\u001b[0;32m<ipython-input-13-f5d72992f40e>\u001b[0m in \u001b[0;36m<module>\u001b[0;34m()\u001b[0m\n\u001b[1;32m      2\u001b[0m     \u001b[0msubscription_key\u001b[0m \u001b[0;34m=\u001b[0m \u001b[0;34m\"001e6c9880df40648236995b6e3c1036\"\u001b[0m\u001b[0;34m\u001b[0m\u001b[0m\n\u001b[1;32m      3\u001b[0m     \u001b[0mapp\u001b[0m \u001b[0;34m=\u001b[0m \u001b[0mTextToSpeech\u001b[0m\u001b[0;34m(\u001b[0m\u001b[0msubscription_key\u001b[0m\u001b[0;34m)\u001b[0m\u001b[0;34m\u001b[0m\u001b[0m\n\u001b[0;32m----> 4\u001b[0;31m     \u001b[0mapp\u001b[0m\u001b[0;34m.\u001b[0m\u001b[0mget_token\u001b[0m\u001b[0;34m(\u001b[0m\u001b[0;34m)\u001b[0m\u001b[0;34m\u001b[0m\u001b[0m\n\u001b[0m\u001b[1;32m      5\u001b[0m     \u001b[0mapp\u001b[0m\u001b[0;34m.\u001b[0m\u001b[0msave_audio\u001b[0m\u001b[0;34m(\u001b[0m\u001b[0;34m)\u001b[0m\u001b[0;34m\u001b[0m\u001b[0m\n",
      "\u001b[0;31mAttributeError\u001b[0m: 'TextToSpeech' object has no attribute 'get_token'"
     ]
    }
   ],
   "source": [
    "if __name__ == \"__main__\":\n",
    "    subscription_key = \"001e6c9880df40648236995b6e3c1036\"\n",
    "    app = TextToSpeech(subscription_key)\n",
    "    app.get_token()\n",
    "    app.save_audio()"
   ]
  },
  {
   "cell_type": "code",
   "execution_count": null,
   "metadata": {
    "collapsed": true
   },
   "outputs": [],
   "source": []
  }
 ],
 "metadata": {
  "kernelspec": {
   "display_name": "Python 3",
   "language": "python",
   "name": "python3"
  },
  "language_info": {
   "codemirror_mode": {
    "name": "ipython",
    "version": 3
   },
   "file_extension": ".py",
   "mimetype": "text/x-python",
   "name": "python",
   "nbconvert_exporter": "python",
   "pygments_lexer": "ipython3",
   "version": "3.6.0"
  }
 },
 "nbformat": 4,
 "nbformat_minor": 2
}
