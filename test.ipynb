{
 "cells": [
  {
   "cell_type": "code",
   "execution_count": 4,
   "metadata": {
    "collapsed": false
   },
   "outputs": [
    {
     "name": "stdout",
     "output_type": "stream",
     "text": [
      "え?\n",
      "{'perplexity': 1.914753521820811, 'reply': 'え?'}\n"
     ]
    }
   ],
   "source": [
    "import pya3rt\n",
    "\n",
    "push_text = \"どうしたの\"\n",
    "\n",
    "if __name__ == '__main__':\n",
    "    apikey = \"DZZTN8HTduABGoAd8GPaM3QCvapddGU7\"\n",
    "    client = pya3rt.TalkClient(apikey)\n",
    "    response = client.talk(push_text)\n",
    "    reply_text = ((response['results'])[0])['reply']\n",
    "\n",
    "print(reply_text)\n",
    "print(((response['results'])[0]))"
   ]
  },
  {
   "cell_type": "code",
   "execution_count": null,
   "metadata": {
    "collapsed": true
   },
   "outputs": [],
   "source": []
  }
 ],
 "metadata": {
  "kernelspec": {
   "display_name": "Python 3",
   "language": "python",
   "name": "python3"
  },
  "language_info": {
   "codemirror_mode": {
    "name": "ipython",
    "version": 3
   },
   "file_extension": ".py",
   "mimetype": "text/x-python",
   "name": "python",
   "nbconvert_exporter": "python",
   "pygments_lexer": "ipython3",
   "version": "3.6.0"
  }
 },
 "nbformat": 4,
 "nbformat_minor": 2
}
